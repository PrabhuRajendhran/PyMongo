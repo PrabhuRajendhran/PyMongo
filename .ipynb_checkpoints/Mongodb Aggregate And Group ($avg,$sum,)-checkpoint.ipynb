{
 "cells": [
  {
   "cell_type": "markdown",
   "metadata": {},
   "source": [
    "### Mongodb Aggregate And Group\n",
    "1. avg\n",
    "2. sum\n",
    "3. project"
   ]
  },
  {
   "cell_type": "code",
   "execution_count": 17,
   "metadata": {},
   "outputs": [
    {
     "data": {
      "text/plain": [
       "<pymongo.results.InsertManyResult at 0x260d3d8a7c0>"
      ]
     },
     "execution_count": 17,
     "metadata": {},
     "output_type": "execute_result"
    }
   ],
   "source": [
    "from pymongo import MongoClient  \n",
    "    \n",
    "# creation of object MongoClient  \n",
    "client=MongoClient()  \n",
    "    \n",
    "# Connect with the portnumber and host  \n",
    "client = MongoClient(\"mongodb://localhost:27017/\")  \n",
    "    \n",
    "# Access database  \n",
    "db = client['Students']  \n",
    "    \n",
    "# Access collection of the database  \n",
    "collection = db['StudentDetails']  \n",
    "\n",
    "data = [ \n",
    "    {\"user\":\"Prabhu\", \"title\":\"Database\", \"score\":80}, \n",
    "    {\"user\":\"Amit\",  \"title\":\"JavaScript\", \"score\":90}, \n",
    "    {\"user\":\"Amit\",  \"title\":\"Database\", \"score\":85}, \n",
    "    {\"user\":\"Sanjay\",  \"title\":\"JavaScript\", \"score\":75}, \n",
    "    {\"user\":\"Santhosh\",  \"title\":\"Data Science\", \"score\":60},\n",
    "    {\"user\":\"Prabhu\",  \"title\":\"Data Science\", \"score\":95}] \n",
    "  \n",
    "collection.insert_many(data) \n"
   ]
  },
  {
   "cell_type": "code",
   "execution_count": 18,
   "metadata": {},
   "outputs": [],
   "source": [
    "### Find Amit And Krish Total Subjects\n",
    "agg_result= collection.aggregate( \n",
    "    [\n",
    "        {\"$match\" : {\"title\" : \"Database\" }}\n",
    "        ,\n",
    "        {\"$group\" :  {\"_id\" : \"$user\", \"Total\" : {\"$sum\" : \"$score\"}}}\n",
    "    ]\n",
    "    ) \n"
   ]
  },
  {
   "cell_type": "code",
   "execution_count": 19,
   "metadata": {},
   "outputs": [
    {
     "name": "stdout",
     "output_type": "stream",
     "text": [
      "{'_id': 'Prabhu', 'Total': 80}\n",
      "{'_id': 'Amit', 'Total': 85}\n"
     ]
    }
   ],
   "source": [
    "for i in agg_result: \n",
    "    print(i)"
   ]
  },
  {
   "cell_type": "code",
   "execution_count": 20,
   "metadata": {},
   "outputs": [
    {
     "name": "stdout",
     "output_type": "stream",
     "text": [
      "{'_id': 'Santhosh', 'Total': 60}\n",
      "{'_id': 'Sanjay', 'Total': 75}\n",
      "{'_id': 'Amit', 'Total': 175}\n",
      "{'_id': 'Prabhu', 'Total': 175}\n"
     ]
    }
   ],
   "source": [
    "### Calculating the total score based on user\n",
    "agg_result= collection.aggregate( \n",
    "    [\n",
    "        {\"$group\" :  {\"_id\" : \"$user\", \"Total\" : {\"$sum\" : \"$score\"}}}\n",
    "    ]\n",
    "    ) \n",
    "\n",
    "for i in agg_result: \n",
    "    print(i)"
   ]
  },
  {
   "cell_type": "code",
   "execution_count": 21,
   "metadata": {},
   "outputs": [
    {
     "name": "stdout",
     "output_type": "stream",
     "text": [
      "{'_id': 'Santhosh', 'Total': 60.0}\n",
      "{'_id': 'Sanjay', 'Total': 75.0}\n",
      "{'_id': 'Prabhu', 'Total': 87.5}\n",
      "{'_id': 'Amit', 'Total': 87.5}\n"
     ]
    }
   ],
   "source": [
    "### Calculating the avg score based on user\n",
    "agg_result= collection.aggregate( \n",
    "    [\n",
    "        {\"$group\" :  {\"_id\" : \"$user\", \"Total\" : {\"$avg\" : \"$score\"}}}\n",
    "    ]\n",
    "    ) \n",
    "\n",
    "for i in agg_result: \n",
    "    print(i)"
   ]
  },
  {
   "cell_type": "code",
   "execution_count": 22,
   "metadata": {},
   "outputs": [],
   "source": [
    "import datetime as datetime"
   ]
  },
  {
   "cell_type": "code",
   "execution_count": 23,
   "metadata": {},
   "outputs": [],
   "source": [
    "### Create a new collection\n",
    "data=[{ \"_id\" : 1, \"item\" : \"abc\", \"price\" : 10, \"quantity\" : 2, \"date\" : datetime.datetime.utcnow()},\n",
    "{ \"_id\" : 2, \"item\" : \"jkl\", \"price\" : 20, \"quantity\" : 1, \"date\" : datetime.datetime.utcnow() },\n",
    "{ \"_id\" : 3, \"item\" : \"xyz\", \"price\" : 5, \"quantity\" : 5, \"date\" : datetime.datetime.utcnow() },\n",
    "{ \"_id\" : 4, \"item\" : \"abc\", \"price\" : 10, \"quantity\" : 10, \"date\" : datetime.datetime.utcnow() },\n",
    "{ \"_id\" : 5, \"item\" : \"xyz\", \"price\" : 5, \"quantity\" : 10, \"date\" :datetime.datetime.utcnow() }]"
   ]
  },
  {
   "cell_type": "code",
   "execution_count": 24,
   "metadata": {},
   "outputs": [
    {
     "data": {
      "text/plain": [
       "[{'_id': 1,\n",
       "  'item': 'abc',\n",
       "  'price': 10,\n",
       "  'quantity': 2,\n",
       "  'date': datetime.datetime(2021, 2, 12, 16, 32, 17, 975952)},\n",
       " {'_id': 2,\n",
       "  'item': 'jkl',\n",
       "  'price': 20,\n",
       "  'quantity': 1,\n",
       "  'date': datetime.datetime(2021, 2, 12, 16, 32, 17, 975952)},\n",
       " {'_id': 3,\n",
       "  'item': 'xyz',\n",
       "  'price': 5,\n",
       "  'quantity': 5,\n",
       "  'date': datetime.datetime(2021, 2, 12, 16, 32, 17, 975952)},\n",
       " {'_id': 4,\n",
       "  'item': 'abc',\n",
       "  'price': 10,\n",
       "  'quantity': 10,\n",
       "  'date': datetime.datetime(2021, 2, 12, 16, 32, 17, 975952)},\n",
       " {'_id': 5,\n",
       "  'item': 'xyz',\n",
       "  'price': 5,\n",
       "  'quantity': 10,\n",
       "  'date': datetime.datetime(2021, 2, 12, 16, 32, 17, 975952)}]"
      ]
     },
     "execution_count": 24,
     "metadata": {},
     "output_type": "execute_result"
    }
   ],
   "source": [
    "data"
   ]
  },
  {
   "cell_type": "code",
   "execution_count": 25,
   "metadata": {},
   "outputs": [
    {
     "data": {
      "text/plain": [
       "<pymongo.results.InsertManyResult at 0x260d3d87b00>"
      ]
     },
     "execution_count": 25,
     "metadata": {},
     "output_type": "execute_result"
    }
   ],
   "source": [
    "sales=db['stores']  \n",
    "sales.insert_many(data)"
   ]
  },
  {
   "cell_type": "code",
   "execution_count": 30,
   "metadata": {},
   "outputs": [
    {
     "name": "stdout",
     "output_type": "stream",
     "text": [
      "{'_id': 'abc', 'avgAmount': 60.0, 'avgQuantity': 6.0}\n",
      "{'_id': 'xyz', 'avgAmount': 37.5, 'avgQuantity': 7.5}\n",
      "{'_id': 'jkl', 'avgAmount': 20.0, 'avgQuantity': 1.0}\n"
     ]
    }
   ],
   "source": [
    "### Calculating the average quantity And Average Price\n",
    "agg_result=sales.aggregate(\n",
    "    [{\"$group\": {\"_id\": '$item', \n",
    "                 \"avgAmount\": {\"$avg\": {\"$multiply\": [ \"$price\", \"$quantity\" ]}}, \n",
    "                 \"avgQuantity\": { \"$avg\": \"$quantity\" }}     \n",
    "     }\n",
    "    ]\n",
    ")\n",
    "for i in agg_result: \n",
    "    print(i)"
   ]
  },
  {
   "cell_type": "code",
   "execution_count": null,
   "metadata": {},
   "outputs": [],
   "source": []
  }
 ],
 "metadata": {
  "kernelspec": {
   "display_name": "Python 3",
   "language": "python",
   "name": "python3"
  },
  "language_info": {
   "codemirror_mode": {
    "name": "ipython",
    "version": 3
   },
   "file_extension": ".py",
   "mimetype": "text/x-python",
   "name": "python",
   "nbconvert_exporter": "python",
   "pygments_lexer": "ipython3",
   "version": "3.8.3"
  }
 },
 "nbformat": 4,
 "nbformat_minor": 4
}
